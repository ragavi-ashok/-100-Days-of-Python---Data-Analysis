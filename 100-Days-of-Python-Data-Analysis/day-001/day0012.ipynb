{
 "cells": [
  {
   "cell_type": "markdown",
   "metadata": {},
   "source": [
    "## Task: Given a dataset of sales data for different items\n",
    "##### 1.Total Revenue from Sales: How much total revenue can be made from selling all the items?\n",
    "##### 2.Most Expensive Item: Which item has the highest price?\n",
    "##### 3.Average Quantity: What is the average quantity of items sold?\n",
    "\n",
    "\n"
   ]
  },
  {
   "cell_type": "code",
   "execution_count": 36,
   "metadata": {},
   "outputs": [],
   "source": [
    "import pandas as pd"
   ]
  },
  {
   "cell_type": "code",
   "execution_count": 37,
   "metadata": {},
   "outputs": [],
   "source": [
    "# Create the DataFrame\n",
    "data = {'Item': ['Pen', 'Notebook', 'Eraser'],\n",
    "        'Price': [1.5, 2.0, 0.5],\n",
    "        'Quantity': [10, 5, 20]}\n",
    "df = pd.DataFrame(data)"
   ]
  },
  {
   "cell_type": "code",
   "execution_count": 38,
   "metadata": {},
   "outputs": [],
   "source": [
    "# Total revenue = Price * Quantity\n",
    "df['Revenue'] = df['Price'] * df['Quantity']"
   ]
  },
  {
   "cell_type": "code",
   "execution_count": 39,
   "metadata": {},
   "outputs": [],
   "source": [
    "# Analysis results\n",
    "total_revenue = df['Revenue'].sum()\n",
    "most_expensive_item = df.loc[df['Price'].idxmax()]['Item']\n",
    "average_quantity = df['Quantity'].mean()\n"
   ]
  },
  {
   "cell_type": "code",
   "execution_count": 40,
   "metadata": {},
   "outputs": [
    {
     "name": "stdout",
     "output_type": "stream",
     "text": [
      "Total Revenue: $35.0\n",
      "Most Expensive Item: Notebook\n",
      "Average Quantity Sold: 11.666666666666666\n"
     ]
    }
   ],
   "source": [
    "# Display results\n",
    "print(f\"Total Revenue: ${total_revenue}\")\n",
    "print(f\"Most Expensive Item: {most_expensive_item}\")\n",
    "print(f\"Average Quantity Sold: {average_quantity}\")\n"
   ]
  }
 ],
 "metadata": {
  "kernelspec": {
   "display_name": "Python 3",
   "language": "python",
   "name": "python3"
  },
  "language_info": {
   "codemirror_mode": {
    "name": "ipython",
    "version": 3
   },
   "file_extension": ".py",
   "mimetype": "text/x-python",
   "name": "python",
   "nbconvert_exporter": "python",
   "pygments_lexer": "ipython3",
   "version": "3.11.4"
  },
  "orig_nbformat": 4
 },
 "nbformat": 4,
 "nbformat_minor": 2
}
